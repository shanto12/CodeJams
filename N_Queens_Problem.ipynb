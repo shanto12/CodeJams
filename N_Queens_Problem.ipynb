{
  "nbformat": 4,
  "nbformat_minor": 0,
  "metadata": {
    "colab": {
      "name": "N Queens Problem.ipynb",
      "version": "0.3.2",
      "provenance": [],
      "toc_visible": true,
      "include_colab_link": true
    },
    "kernelspec": {
      "name": "python3",
      "display_name": "Python 3"
    }
  },
  "cells": [
    {
      "cell_type": "markdown",
      "metadata": {
        "id": "view-in-github",
        "colab_type": "text"
      },
      "source": [
        "<a href=\"https://colab.research.google.com/github/shanto12/CodeJams/blob/master/N_Queens_Problem.ipynb\" target=\"_parent\"><img src=\"https://colab.research.google.com/assets/colab-badge.svg\" alt=\"Open In Colab\"/></a>"
      ]
    },
    {
      "metadata": {
        "id": "trMMtOWkaB6_",
        "colab_type": "text"
      },
      "cell_type": "markdown",
      "source": [
        "## This code might not work from colab. You need to copy code to machine and execute"
      ]
    },
    {
      "metadata": {
        "id": "OaX6SgABeGTl",
        "colab_type": "code",
        "outputId": "3593da9c-66bf-4d0c-adfa-3e38853a68a6",
        "colab": {
          "base_uri": "https://localhost:8080/",
          "height": 469
        }
      },
      "cell_type": "code",
      "source": [
        "# Author: Shanto Mathew. Written on 09\\07\\2018\n",
        "\n",
        "!pip install pygame\n",
        "import pygame\n",
        "\n",
        "def draw_board(board, final=False):\n",
        "    N = len(board)\n",
        "\n",
        "    # Define some colors\n",
        "    WHITE = (255, 255, 255)\n",
        "    GREEN = (0, 255, 0)\n",
        "    GREY = (211,211,211)\n",
        "\n",
        "    # Initialize pygame\n",
        "    pygame.init()\n",
        "\n",
        "    # Set the HEIGHT and WIDTH of the screen\n",
        "    screen = pygame.display.set_mode([50 * N + 5 * (N+1), 50 * N + 5 * (N+1)])\n",
        "\n",
        "    # Set title of screen\n",
        "    pygame.display.set_caption(\"N Queens Problem\")\n",
        "\n",
        "\n",
        "    # Draw the grid\n",
        "    for row in range(N):\n",
        "        for column in range(N):\n",
        "            color = WHITE\n",
        "            if board[row][column] == 'Q':\n",
        "                color = GREEN\n",
        "            if not final and board[row][column] == 1:\n",
        "                color = GREY\n",
        "            pygame.draw.rect(screen,\n",
        "                             color,\n",
        "                             [(5 + 50) * column + 5,\n",
        "                              (5 + 50) * row + 5,\n",
        "                              50,\n",
        "                              50])\n",
        "    pygame.display.flip()\n",
        "\n",
        "    # Loop until the user clicks the close button.\n",
        "\n",
        "    while pygame.QUIT not in [x.type for x in pygame.event.get()]:\n",
        "        pass\n",
        "    if final:\n",
        "        pygame.quit()\n",
        "\n",
        "def find_four_routes(i, j, M, N):\n",
        "    coord_set = set()\n",
        "    coord_set.update({(k, j)for k in range(M) if k!=i})  # All cells in the same row\n",
        "    coord_set.update({(i, l)for l in range(N) if l!=j}) # All cells in the same column\n",
        "\n",
        "    zip_obj = zip(range(i-j, M), range(N-(i-j))) if i>j else zip(range(M-(j-i)), range(j-i, N))  # All cells in the diagonal\n",
        "    zip_obj2 = zip(range(i-min(i, N-j-1), i+min(M-i-1, j)+1), reversed(range(j-min(j, M-i-1), j+min(N-j-1, i)+1))) # All cells in the other diagonal\n",
        "\n",
        "    coord_set.update({(k, l)for (k, l) in zip_obj if not(i==k and j==l)})\n",
        "    coord_set.update({(k, l)for (k, l) in zip_obj2 if not(i==k and j==l)})\n",
        "    return coord_set\n",
        "\n",
        "def n_queen(N):\n",
        "    board = [[0]*N for x in range(N)]\n",
        "    coord_list = list()\n",
        "\n",
        "    def attacked(coord_set):\n",
        "        coord_to_remove = set()\n",
        "        for i, j in coord_set:\n",
        "            if not board[i][j]:\n",
        "                board[i][j] = 1\n",
        "            else:\n",
        "                coord_to_remove.add((i, j))\n",
        "        for param in coord_to_remove:\n",
        "            coord_set.remove(param)\n",
        "    def deattacked(coord_set):\n",
        "        for i, j in coord_set:\n",
        "            board[i][j] = 0\n",
        "\n",
        "    def find_cells(index):\n",
        "        global iterr\n",
        "        if index==N:\n",
        "            return True\n",
        "        for pos in range(N):\n",
        "            if not board[index][pos]:\n",
        "                board[index][pos] = 'Q'\n",
        "                coord_list.append((index, pos))\n",
        "                coord_set = find_four_routes(index, pos, N, N)\n",
        "                attacked(coord_set)\n",
        "                if find_cells(index+1):\n",
        "                    return True\n",
        "                else:\n",
        "                    # print(f'Removing Q on row {index}, index {pos}')\n",
        "                    board[index][pos] = 0\n",
        "                    deattacked(coord_set)\n",
        "                    coord_list.remove((index, pos))\n",
        "\n",
        "    if find_cells(0):\n",
        "        draw_board(board, final=True)\n",
        "        return coord_list\n",
        "    else:\n",
        "        print('Couldnt get all the rows working')\n",
        "\n",
        "\n",
        "n_queen(10)\n",
        "print('FINISHED')"
      ],
      "execution_count": 2,
      "outputs": [
        {
          "output_type": "stream",
          "text": [
            "Requirement already satisfied: pygame in /usr/local/lib/python3.6/dist-packages (1.9.5)\n"
          ],
          "name": "stdout"
        },
        {
          "output_type": "error",
          "ename": "error",
          "evalue": "ignored",
          "traceback": [
            "\u001b[0;31m---------------------------------------------------------------------------\u001b[0m",
            "\u001b[0;31merror\u001b[0m                                     Traceback (most recent call last)",
            "\u001b[0;32m<ipython-input-2-70b79fdd8efa>\u001b[0m in \u001b[0;36m<module>\u001b[0;34m()\u001b[0m\n\u001b[1;32m     98\u001b[0m \u001b[0;34m\u001b[0m\u001b[0m\n\u001b[1;32m     99\u001b[0m \u001b[0;34m\u001b[0m\u001b[0m\n\u001b[0;32m--> 100\u001b[0;31m \u001b[0mn_queen\u001b[0m\u001b[0;34m(\u001b[0m\u001b[0;36m10\u001b[0m\u001b[0;34m)\u001b[0m\u001b[0;34m\u001b[0m\u001b[0;34m\u001b[0m\u001b[0m\n\u001b[0m\u001b[1;32m    101\u001b[0m \u001b[0mprint\u001b[0m\u001b[0;34m(\u001b[0m\u001b[0;34m'FINISHED'\u001b[0m\u001b[0;34m)\u001b[0m\u001b[0;34m\u001b[0m\u001b[0;34m\u001b[0m\u001b[0m\n",
            "\u001b[0;32m<ipython-input-2-70b79fdd8efa>\u001b[0m in \u001b[0;36mn_queen\u001b[0;34m(N)\u001b[0m\n\u001b[1;32m     92\u001b[0m \u001b[0;34m\u001b[0m\u001b[0m\n\u001b[1;32m     93\u001b[0m     \u001b[0;32mif\u001b[0m \u001b[0mfind_cells\u001b[0m\u001b[0;34m(\u001b[0m\u001b[0;36m0\u001b[0m\u001b[0;34m)\u001b[0m\u001b[0;34m:\u001b[0m\u001b[0;34m\u001b[0m\u001b[0;34m\u001b[0m\u001b[0m\n\u001b[0;32m---> 94\u001b[0;31m         \u001b[0mdraw_board\u001b[0m\u001b[0;34m(\u001b[0m\u001b[0mboard\u001b[0m\u001b[0;34m,\u001b[0m \u001b[0mfinal\u001b[0m\u001b[0;34m=\u001b[0m\u001b[0;32mTrue\u001b[0m\u001b[0;34m)\u001b[0m\u001b[0;34m\u001b[0m\u001b[0;34m\u001b[0m\u001b[0m\n\u001b[0m\u001b[1;32m     95\u001b[0m         \u001b[0;32mreturn\u001b[0m \u001b[0mcoord_list\u001b[0m\u001b[0;34m\u001b[0m\u001b[0;34m\u001b[0m\u001b[0m\n\u001b[1;32m     96\u001b[0m     \u001b[0;32melse\u001b[0m\u001b[0;34m:\u001b[0m\u001b[0;34m\u001b[0m\u001b[0;34m\u001b[0m\u001b[0m\n",
            "\u001b[0;32m<ipython-input-2-70b79fdd8efa>\u001b[0m in \u001b[0;36mdraw_board\u001b[0;34m(board, final)\u001b[0m\n\u001b[1;32m     15\u001b[0m \u001b[0;34m\u001b[0m\u001b[0m\n\u001b[1;32m     16\u001b[0m     \u001b[0;31m# Set the HEIGHT and WIDTH of the screen\u001b[0m\u001b[0;34m\u001b[0m\u001b[0;34m\u001b[0m\u001b[0;34m\u001b[0m\u001b[0m\n\u001b[0;32m---> 17\u001b[0;31m     \u001b[0mscreen\u001b[0m \u001b[0;34m=\u001b[0m \u001b[0mpygame\u001b[0m\u001b[0;34m.\u001b[0m\u001b[0mdisplay\u001b[0m\u001b[0;34m.\u001b[0m\u001b[0mset_mode\u001b[0m\u001b[0;34m(\u001b[0m\u001b[0;34m[\u001b[0m\u001b[0;36m50\u001b[0m \u001b[0;34m*\u001b[0m \u001b[0mN\u001b[0m \u001b[0;34m+\u001b[0m \u001b[0;36m5\u001b[0m \u001b[0;34m*\u001b[0m \u001b[0;34m(\u001b[0m\u001b[0mN\u001b[0m\u001b[0;34m+\u001b[0m\u001b[0;36m1\u001b[0m\u001b[0;34m)\u001b[0m\u001b[0;34m,\u001b[0m \u001b[0;36m50\u001b[0m \u001b[0;34m*\u001b[0m \u001b[0mN\u001b[0m \u001b[0;34m+\u001b[0m \u001b[0;36m5\u001b[0m \u001b[0;34m*\u001b[0m \u001b[0;34m(\u001b[0m\u001b[0mN\u001b[0m\u001b[0;34m+\u001b[0m\u001b[0;36m1\u001b[0m\u001b[0;34m)\u001b[0m\u001b[0;34m]\u001b[0m\u001b[0;34m)\u001b[0m\u001b[0;34m\u001b[0m\u001b[0;34m\u001b[0m\u001b[0m\n\u001b[0m\u001b[1;32m     18\u001b[0m \u001b[0;34m\u001b[0m\u001b[0m\n\u001b[1;32m     19\u001b[0m     \u001b[0;31m# Set title of screen\u001b[0m\u001b[0;34m\u001b[0m\u001b[0;34m\u001b[0m\u001b[0;34m\u001b[0m\u001b[0m\n",
            "\u001b[0;31merror\u001b[0m: No available video device"
          ]
        }
      ]
    }
  ]
}